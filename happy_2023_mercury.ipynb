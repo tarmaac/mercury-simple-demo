{
 "cells": [
  {
   "cell_type": "raw",
   "metadata": {},
   "source": [
    "---\n",
    "title: My app\n",
    "description: My first notebook shared on Mercury\n",
    "show-code: False\n",
    "params:\n",
    "    greetings:\n",
    "        input: select\n",
    "        label: Select greetings\n",
    "        value: Cześć\n",
    "        choices: [Cześć, Hello, Hi, Salut, Ciao]\n",
    "    year:\n",
    "        input: slider\n",
    "        label: Select year\n",
    "        value: 2022\n",
    "        min: 2021\n",
    "        max: 2030\n",
    "---"
   ]
  },
  {
   "cell_type": "code",
   "execution_count": 2,
   "metadata": {},
   "outputs": [],
   "source": [
    "greetings = \"Happy New Year\"   \n",
    "year = 2023"
   ]
  },
  {
   "cell_type": "code",
   "execution_count": 3,
   "metadata": {},
   "outputs": [
    {
     "name": "stdout",
     "output_type": "stream",
     "text": [
      "Happy New Year 2023!!\n"
     ]
    }
   ],
   "source": [
    "print(\"{} {}!!\".format(greetings, year))"
   ]
  }
 ],
 "metadata": {
  "kernelspec": {
   "display_name": "Python 3.8.10 ('simple_env')",
   "language": "python",
   "name": "python3"
  },
  "language_info": {
   "codemirror_mode": {
    "name": "ipython",
    "version": 3
   },
   "file_extension": ".py",
   "mimetype": "text/x-python",
   "name": "python",
   "nbconvert_exporter": "python",
   "pygments_lexer": "ipython3",
   "version": "3.8.10"
  },
  "orig_nbformat": 4,
  "vscode": {
   "interpreter": {
    "hash": "049a38967d696f01155e476c68f15bc2df22489ce646aae6c8362e2ee7a5daa2"
   }
  }
 },
 "nbformat": 4,
 "nbformat_minor": 2
}
